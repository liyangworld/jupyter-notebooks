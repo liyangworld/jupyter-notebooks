{
    "cells": [
        {
            "cell_type": "code",
            "execution_count": 13,
            "source": [
                "import json\n",
                "\n",
                "list = [x for x in range(10)]\n",
                "obj = {\n",
                "  'a': 'aaa',\n",
                "  'b': 'aaa',\n",
                "  'c': 'aaa',\n",
                "  'd': 'aaa',\n",
                "  'e': list\n",
                "}\n",
                "\n",
                "with open('test.json', 'w') as f:\n",
                "  f.write(json.dumps(obj))\n",
                "\n"
            ],
            "outputs": [],
            "metadata": {}
        },
        {
            "cell_type": "code",
            "execution_count": 14,
            "source": [
                "import json\n",
                "\n",
                "with open('test.json', 'r') as f:\n",
                "  content = json.loads(f.read())\n",
                "\n",
                "print(content)"
            ],
            "outputs": [
                {
                    "output_type": "stream",
                    "name": "stdout",
                    "text": [
                        "{'a': 'aaa', 'b': 'aaa', 'c': 'aaa', 'd': 'aaa', 'e': [0, 1, 2, 3, 4, 5, 6, 7, 8, 9]}\n"
                    ]
                }
            ],
            "metadata": {}
        }
    ],
    "metadata": {
        "orig_nbformat": 4,
        "language_info": {
            "name": "python",
            "version": "3.8.8",
            "mimetype": "text/x-python",
            "codemirror_mode": {
                "name": "ipython",
                "version": 3
            },
            "pygments_lexer": "ipython3",
            "nbconvert_exporter": "python",
            "file_extension": ".py"
        },
        "kernelspec": {
            "name": "python3",
            "display_name": "Python 3.8.8 64-bit ('base': conda)"
        },
        "interpreter": {
            "hash": "ef7f9a8012d9131766e31894c279374cc63c73121ed4db3b9e67a294a4bf0e74"
        }
    },
    "nbformat": 4,
    "nbformat_minor": 2
}